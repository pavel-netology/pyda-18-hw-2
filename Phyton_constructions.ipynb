{
 "cells": [
  {
   "cell_type": "markdown",
   "metadata": {},
   "source": [
    "### Задание 1 - код, который выводит на экран: 1) среднюю букву, если число букв в слове нечетное 2) две средних буквы, если число букв четное."
   ]
  },
  {
   "cell_type": "code",
   "execution_count": 26,
   "metadata": {},
   "outputs": [
    {
     "name": "stdout",
     "output_type": "stream",
     "text": [
      "kp\n"
     ]
    }
   ],
   "source": [
    "a='hakpys'\n",
    "b=len(a)\n",
    "if b%2>0:\n",
    "    c=b//2\n",
    "    print(a[c])\n",
    "else:\n",
    "    c=int(b/2)\n",
    "    print(a[c-1:c+1])"
   ]
  },
  {
   "cell_type": "markdown",
   "metadata": {},
   "source": [
    "### Задание 2 - код,  который последовательно запрашивает у пользователя числа (по одному за раз) и после первого нуля выводит сумму всех ранее введенных чисел."
   ]
  },
  {
   "cell_type": "code",
   "execution_count": 27,
   "metadata": {},
   "outputs": [
    {
     "name": "stdout",
     "output_type": "stream",
     "text": [
      "Введите любое число: 4\n",
      "Введите любое число: 6\n",
      "Введите любое число: 5\n",
      "Введите любое число: 2\n",
      "Введите любое число: 3\n",
      "Введите любое число: 0\n",
      "20\n"
     ]
    }
   ],
   "source": [
    "total=0\n",
    "number=1\n",
    "while number!=0:\n",
    "    number=int(input('Введите любое число: '))\n",
    "    total=total+number\n",
    "print(total)"
   ]
  },
  {
   "cell_type": "markdown",
   "metadata": {},
   "source": [
    "### Задание 3 - код, dating-сервиса"
   ]
  },
  {
   "cell_type": "code",
   "execution_count": 28,
   "metadata": {},
   "outputs": [
    {
     "name": "stdout",
     "output_type": "stream",
     "text": [
      "Результат:\n",
      "Идеальный пары:\n",
      "Андрей и Даша\n",
      "Вадим и Оля\n",
      "Петя и Света\n",
      "Юра и Таня\n"
     ]
    }
   ],
   "source": [
    "boys = ['Петя','Андрей','Вадим','Юра']\n",
    "girls = ['Света','Даша','Оля','Таня']\n",
    "if len(boys)==len(girls):\n",
    "    print('Результат:')\n",
    "    print('Идеальный пары:')\n",
    "    zipped=zip(sorted(boys),sorted(girls))\n",
    "    for pair in list(zipped):\n",
    "        print(pair[0], 'и', pair[1])\n",
    "else:\n",
    "    print('Внимание! Кто-то может остаться без пары!')\n"
   ]
  },
  {
   "cell_type": "markdown",
   "metadata": {},
   "source": [
    "### Задание 4 - код, который рассчитает среднюю температуру за период в Цельсиях(!) для каждой страны"
   ]
  },
  {
   "cell_type": "code",
   "execution_count": 29,
   "metadata": {},
   "outputs": [
    {
     "name": "stdout",
     "output_type": "stream",
     "text": [
      "Результат:\n",
      "Thailand - 23 ℃\n",
      "Germany - 13 ℃\n",
      "Russia - 3 ℃\n",
      "Poland - 11 ℃\n"
     ]
    }
   ],
   "source": [
    "countries_temperature = [\n",
    "['Thailand', [75.2, 77, 78.8, 73.4, 68, 75.2, 77]],\n",
    "['Germany', [57.2, 55.4, 59, 59, 53.6]],\n",
    "['Russia', [35.6, 37.4, 39.2, 41, 42.8, 39.2, 35.6]],\n",
    "['Poland', [50, 50, 53.6, 57.2, 55.4, 55.4]]]\n",
    "print('Результат:')\n",
    "for fahrenheit in countries_temperature:\n",
    "    fahrenheit_mean=sum(fahrenheit[1])/len(fahrenheit[1])\n",
    "    celsius=(fahrenheit_mean-32)/1.8\n",
    "    print(fahrenheit[0],'-',int(celsius),'℃')"
   ]
  },
  {
   "cell_type": "markdown",
   "metadata": {},
   "source": [
    "### Задание 5* - алгоритм, который считает среднее значение просмотров на пользователя"
   ]
  },
  {
   "cell_type": "code",
   "execution_count": 30,
   "metadata": {},
   "outputs": [
    {
     "name": "stdout",
     "output_type": "stream",
     "text": [
      "Результат: \n",
      "Среднее количество просмотров на уникального пользователя -  23.25\n"
     ]
    }
   ],
   "source": [
    "stream = [\n",
    "'2018-01-01,user1,3',\n",
    "'2018-01-07,user1,4',\n",
    "'2018-03-29,user1,1',\n",
    "'2018-04-04,user1,13',\n",
    "'2018-01-05,user2,7',\n",
    "'2018-06-14,user3,4',\n",
    "'2018-07-02,user3,10',\n",
    "'2018-03-21,user4,19',\n",
    "'2018-03-22,user4,4',\n",
    "'2018-04-22,user4,8',\n",
    "'2018-05-03,user4,9',\n",
    "'2018-05-11,user4,11'\n",
    "]\n",
    "users=[]\n",
    "unique_users=[]\n",
    "quantity=[]\n",
    "for element in stream:\n",
    "    element_list=element.split(',')\n",
    "    users.append(element_list[1])\n",
    "    quantity.append(int(element_list[2]))\n",
    "for unique in users:\n",
    "    if unique not in unique_users:\n",
    "        unique_users.append(unique)\n",
    "print('Результат: ')\n",
    "print('Среднее количество просмотров на уникального пользователя - ',sum(quantity)/len(unique_users))"
   ]
  },
  {
   "cell_type": "markdown",
   "metadata": {},
   "source": [
    "### Задание 6* - код, который должен выводить числа, которые повторяются в вводе более одного раза."
   ]
  },
  {
   "cell_type": "code",
   "execution_count": 31,
   "metadata": {},
   "outputs": [
    {
     "name": "stdout",
     "output_type": "stream",
     "text": [
      "Введите числа через пробел: 4 5 3 4 5 99 5\n",
      "Результат: \n",
      "4 5 "
     ]
    }
   ],
   "source": [
    "number=input('Введите числа через пробел: ')\n",
    "print('Результат: ')\n",
    "number_list=number.split(' ')\n",
    "for numeral in number_list:\n",
    "    if number_list.count(numeral)>1:\n",
    "        print(numeral,end=' ')\n",
    "        while number_list.count(numeral)>1:\n",
    "            number_list.remove(numeral)"
   ]
  }
 ],
 "metadata": {
  "kernelspec": {
   "display_name": "Python 3",
   "language": "python",
   "name": "python3"
  },
  "language_info": {
   "codemirror_mode": {
    "name": "ipython",
    "version": 3
   },
   "file_extension": ".py",
   "mimetype": "text/x-python",
   "name": "python",
   "nbconvert_exporter": "python",
   "pygments_lexer": "ipython3",
   "version": "3.8.5"
  }
 },
 "nbformat": 4,
 "nbformat_minor": 4
}
